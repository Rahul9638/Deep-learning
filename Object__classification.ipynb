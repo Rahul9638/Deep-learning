{
  "nbformat": 4,
  "nbformat_minor": 0,
  "metadata": {
    "colab": {
      "name": "Object _classification.ipynb",
      "provenance": []
    },
    "kernelspec": {
      "name": "python3",
      "display_name": "Python 3"
    },
    "accelerator": "GPU"
  },
  "cells": [
    {
      "cell_type": "code",
      "metadata": {
        "id": "3OUigs_w0CYR"
      },
      "source": [
        "import tensorflow as tf\n",
        "from tensorflow import keras\n",
        "from matplotlib import pyplot as plt\n",
        "import pandas as pd\n",
        "import numpy as np\n"
      ],
      "execution_count": null,
      "outputs": []
    },
    {
      "cell_type": "code",
      "metadata": {
        "id": "FGz2BBFH0OJk",
        "colab": {
          "base_uri": "https://localhost:8080/"
        },
        "outputId": "e098787f-d11d-4b78-e62a-91aa247ecfcc"
      },
      "source": [
        "tf.config.experimental.list_physical_devices()"
      ],
      "execution_count": null,
      "outputs": [
        {
          "output_type": "execute_result",
          "data": {
            "text/plain": [
              "[PhysicalDevice(name='/physical_device:CPU:0', device_type='CPU'),\n",
              " PhysicalDevice(name='/physical_device:XLA_CPU:0', device_type='XLA_CPU'),\n",
              " PhysicalDevice(name='/physical_device:XLA_GPU:0', device_type='XLA_GPU'),\n",
              " PhysicalDevice(name='/physical_device:GPU:0', device_type='GPU')]"
            ]
          },
          "metadata": {
            "tags": []
          },
          "execution_count": 2
        }
      ]
    },
    {
      "cell_type": "code",
      "metadata": {
        "id": "KCunETGb0Xzc",
        "colab": {
          "base_uri": "https://localhost:8080/"
        },
        "outputId": "cbeb28c8-3008-483e-a9bc-6c7c5472293a"
      },
      "source": [
        "tf.test.is_built_with_cuda()"
      ],
      "execution_count": null,
      "outputs": [
        {
          "output_type": "execute_result",
          "data": {
            "text/plain": [
              "True"
            ]
          },
          "metadata": {
            "tags": []
          },
          "execution_count": 3
        }
      ]
    },
    {
      "cell_type": "code",
      "metadata": {
        "id": "uEagx-qd0cGh",
        "colab": {
          "base_uri": "https://localhost:8080/"
        },
        "outputId": "b847cb8e-3c41-4fe9-c548-140c1d66382d"
      },
      "source": [
        "(X_train,y_train),(X_test,y_test) = tf.keras.datasets.cifar10.load_data()"
      ],
      "execution_count": null,
      "outputs": [
        {
          "output_type": "stream",
          "text": [
            "Downloading data from https://www.cs.toronto.edu/~kriz/cifar-10-python.tar.gz\n",
            "170500096/170498071 [==============================] - 11s 0us/step\n"
          ],
          "name": "stdout"
        }
      ]
    },
    {
      "cell_type": "code",
      "metadata": {
        "id": "8U0Ytg2_0fC4",
        "colab": {
          "base_uri": "https://localhost:8080/"
        },
        "outputId": "ba21c638-7d73-44d2-9ec8-1b8656a8e697"
      },
      "source": [
        "X_train.shape"
      ],
      "execution_count": null,
      "outputs": [
        {
          "output_type": "execute_result",
          "data": {
            "text/plain": [
              "(50000, 32, 32, 3)"
            ]
          },
          "metadata": {
            "tags": []
          },
          "execution_count": 5
        }
      ]
    },
    {
      "cell_type": "code",
      "metadata": {
        "id": "W30H4k2E0rXn",
        "colab": {
          "base_uri": "https://localhost:8080/"
        },
        "outputId": "193dc871-8c7f-45b0-aeb2-762ab03dec47"
      },
      "source": [
        "y_train.shape"
      ],
      "execution_count": null,
      "outputs": [
        {
          "output_type": "execute_result",
          "data": {
            "text/plain": [
              "(50000, 1)"
            ]
          },
          "metadata": {
            "tags": []
          },
          "execution_count": 6
        }
      ]
    },
    {
      "cell_type": "code",
      "metadata": {
        "id": "2-zdlVKL0uzI",
        "colab": {
          "base_uri": "https://localhost:8080/"
        },
        "outputId": "c417dd3b-1e4b-4c86-b33b-dad3c2f8b755"
      },
      "source": [
        "X_train[0].shape"
      ],
      "execution_count": null,
      "outputs": [
        {
          "output_type": "execute_result",
          "data": {
            "text/plain": [
              "(32, 32, 3)"
            ]
          },
          "metadata": {
            "tags": []
          },
          "execution_count": 7
        }
      ]
    },
    {
      "cell_type": "code",
      "metadata": {
        "id": "XDzd0X-R1Ddz",
        "colab": {
          "base_uri": "https://localhost:8080/"
        },
        "outputId": "a36bcb6c-1e59-4a77-d5cf-f646a901265b"
      },
      "source": [
        "y_train[0:5]"
      ],
      "execution_count": null,
      "outputs": [
        {
          "output_type": "execute_result",
          "data": {
            "text/plain": [
              "array([[6],\n",
              "       [9],\n",
              "       [9],\n",
              "       [4],\n",
              "       [1]], dtype=uint8)"
            ]
          },
          "metadata": {
            "tags": []
          },
          "execution_count": 8
        }
      ]
    },
    {
      "cell_type": "code",
      "metadata": {
        "id": "q1GrggWK1Uec"
      },
      "source": [
        "def plot_sample(index):\n",
        "  plt.figure(figsize=(10,1))\n",
        "  plt.imshow(X_train[index])"
      ],
      "execution_count": null,
      "outputs": []
    },
    {
      "cell_type": "code",
      "metadata": {
        "id": "TjoIAz4o1rbI",
        "colab": {
          "base_uri": "https://localhost:8080/",
          "height": 105
        },
        "outputId": "9c55b918-8e00-4fea-f3c4-33a95227c39a"
      },
      "source": [
        "plot_sample(0)"
      ],
      "execution_count": null,
      "outputs": [
        {
          "output_type": "display_data",
          "data": {
            "image/png": "[encoded data removed]",
            "text/plain": [
              "<Figure size 720x72 with 1 Axes>"
            ]
          },
          "metadata": {
            "tags": [],
            "needs_background": "light"
          }
        }
      ]
    },
    {
      "cell_type": "code",
      "metadata": {
        "id": "l6OS2-1f1uSA",
        "colab": {
          "base_uri": "https://localhost:8080/",
          "height": 105
        },
        "outputId": "bcb065eb-b8ac-491c-8fda-e4610a1797b9"
      },
      "source": [
        "plot_sample(2)"
      ],
      "execution_count": null,
      "outputs": [
        {
          "output_type": "display_data",
          "data": {
            "image/png": "[encoded data removed]",
            "text/plain": [
              "<Figure size 720x72 with 1 Axes>"
            ]
          },
          "metadata": {
            "tags": [],
            "needs_background": "light"
          }
        }
      ]
    },
    {
      "cell_type": "code",
      "metadata": {
        "id": "jh6XQ9T-2L8J"
      },
      "source": [
        "classes = ['Aeroplane','automobile','bird','cat','deer','dog','frog','horse','ship','truck']"
      ],
      "execution_count": null,
      "outputs": []
    },
    {
      "cell_type": "code",
      "metadata": {
        "id": "p0wx-PeF2my7",
        "colab": {
          "base_uri": "https://localhost:8080/",
          "height": 105
        },
        "outputId": "bfa03709-0e77-4b15-b634-097722ad15b8"
      },
      "source": [
        "plot_sample(3)"
      ],
      "execution_count": null,
      "outputs": [
        {
          "output_type": "display_data",
          "data": {
            "image/png": "[encoded data removed]",
            "text/plain": [
              "<Figure size 720x72 with 1 Axes>"
            ]
          },
          "metadata": {
            "tags": [],
            "needs_background": "light"
          }
        }
      ]
    },
    {
      "cell_type": "code",
      "metadata": {
        "id": "cuApnWEb21Xp",
        "colab": {
          "base_uri": "https://localhost:8080/"
        },
        "outputId": "8ef263d5-9c47-46b0-e6f5-9ae60f24d611"
      },
      "source": [
        "y_train[3]"
      ],
      "execution_count": null,
      "outputs": [
        {
          "output_type": "execute_result",
          "data": {
            "text/plain": [
              "array([4], dtype=uint8)"
            ]
          },
          "metadata": {
            "tags": []
          },
          "execution_count": 14
        }
      ]
    },
    {
      "cell_type": "code",
      "metadata": {
        "id": "dVu3A0x_25ga",
        "colab": {
          "base_uri": "https://localhost:8080/",
          "height": 35
        },
        "outputId": "71fef0a6-fcc2-4baf-f8d5-9f67b2673353"
      },
      "source": [
        "classes [y_train[3][0]]"
      ],
      "execution_count": null,
      "outputs": [
        {
          "output_type": "execute_result",
          "data": {
            "application/vnd.google.colaboratory.intrinsic+json": {
              "type": "string"
            },
            "text/plain": [
              "'deer'"
            ]
          },
          "metadata": {
            "tags": []
          },
          "execution_count": 25
        }
      ]
    },
    {
      "cell_type": "code",
      "metadata": {
        "id": "blW8kRoQ3nJg",
        "colab": {
          "base_uri": "https://localhost:8080/"
        },
        "outputId": "bd05fe13-1ae9-4066-93bc-e0cc99ca6bfb"
      },
      "source": [
        "X_train[0]/255"
      ],
      "execution_count": null,
      "outputs": [
        {
          "output_type": "execute_result",
          "data": {
            "text/plain": [
              "array([[[0.23137255, 0.24313725, 0.24705882],\n",
              "        [0.16862745, 0.18039216, 0.17647059],\n",
              "        [0.19607843, 0.18823529, 0.16862745],\n",
              "        ...,\n",
              "        [0.61960784, 0.51764706, 0.42352941],\n",
              "        [0.59607843, 0.49019608, 0.4       ],\n",
              "        [0.58039216, 0.48627451, 0.40392157]],\n",
              "\n",
              "       [[0.0627451 , 0.07843137, 0.07843137],\n",
              "        [0.        , 0.        , 0.        ],\n",
              "        [0.07058824, 0.03137255, 0.        ],\n",
              "        ...,\n",
              "        [0.48235294, 0.34509804, 0.21568627],\n",
              "        [0.46666667, 0.3254902 , 0.19607843],\n",
              "        [0.47843137, 0.34117647, 0.22352941]],\n",
              "\n",
              "       [[0.09803922, 0.09411765, 0.08235294],\n",
              "        [0.0627451 , 0.02745098, 0.        ],\n",
              "        [0.19215686, 0.10588235, 0.03137255],\n",
              "        ...,\n",
              "        [0.4627451 , 0.32941176, 0.19607843],\n",
              "        [0.47058824, 0.32941176, 0.19607843],\n",
              "        [0.42745098, 0.28627451, 0.16470588]],\n",
              "\n",
              "       ...,\n",
              "\n",
              "       [[0.81568627, 0.66666667, 0.37647059],\n",
              "        [0.78823529, 0.6       , 0.13333333],\n",
              "        [0.77647059, 0.63137255, 0.10196078],\n",
              "        ...,\n",
              "        [0.62745098, 0.52156863, 0.2745098 ],\n",
              "        [0.21960784, 0.12156863, 0.02745098],\n",
              "        [0.20784314, 0.13333333, 0.07843137]],\n",
              "\n",
              "       [[0.70588235, 0.54509804, 0.37647059],\n",
              "        [0.67843137, 0.48235294, 0.16470588],\n",
              "        [0.72941176, 0.56470588, 0.11764706],\n",
              "        ...,\n",
              "        [0.72156863, 0.58039216, 0.36862745],\n",
              "        [0.38039216, 0.24313725, 0.13333333],\n",
              "        [0.3254902 , 0.20784314, 0.13333333]],\n",
              "\n",
              "       [[0.69411765, 0.56470588, 0.45490196],\n",
              "        [0.65882353, 0.50588235, 0.36862745],\n",
              "        [0.70196078, 0.55686275, 0.34117647],\n",
              "        ...,\n",
              "        [0.84705882, 0.72156863, 0.54901961],\n",
              "        [0.59215686, 0.4627451 , 0.32941176],\n",
              "        [0.48235294, 0.36078431, 0.28235294]]])"
            ]
          },
          "metadata": {
            "tags": []
          },
          "execution_count": 16
        }
      ]
    },
    {
      "cell_type": "code",
      "metadata": {
        "id": "7waigD2034Vr"
      },
      "source": [
        "X_train_scaled = X_train/255\n",
        "X_test_scaled = X_test/255"
      ],
      "execution_count": null,
      "outputs": []
    },
    {
      "cell_type": "code",
      "metadata": {
        "id": "iM-cNLII4PeZ",
        "colab": {
          "base_uri": "https://localhost:8080/"
        },
        "outputId": "89f3346c-c4d0-4e8d-cf55-18ae3d7a4fa5"
      },
      "source": [
        "X_train_scaled.shape"
      ],
      "execution_count": null,
      "outputs": [
        {
          "output_type": "execute_result",
          "data": {
            "text/plain": [
              "(50000, 32, 32, 3)"
            ]
          },
          "metadata": {
            "tags": []
          },
          "execution_count": 18
        }
      ]
    },
    {
      "cell_type": "code",
      "metadata": {
        "id": "V_ygLGOW4gpV",
        "colab": {
          "base_uri": "https://localhost:8080/"
        },
        "outputId": "cfe48a9e-0888-4367-cf45-8922c5c8a8a5"
      },
      "source": [
        "y_train[:5]"
      ],
      "execution_count": null,
      "outputs": [
        {
          "output_type": "execute_result",
          "data": {
            "text/plain": [
              "array([[6],\n",
              "       [9],\n",
              "       [9],\n",
              "       [4],\n",
              "       [1]], dtype=uint8)"
            ]
          },
          "metadata": {
            "tags": []
          },
          "execution_count": 19
        }
      ]
    },
    {
      "cell_type": "code",
      "metadata": {
        "id": "Fe92tA294yTT"
      },
      "source": [
        "y_train_categorical = keras.utils.to_categorical(\n",
        "    y_train, num_classes = 10,dtype = 'float32'\n",
        ")"
      ],
      "execution_count": null,
      "outputs": []
    },
    {
      "cell_type": "code",
      "metadata": {
        "id": "iw0v9ud85YGd",
        "colab": {
          "base_uri": "https://localhost:8080/"
        },
        "outputId": "8b6223b9-039a-4ffb-d980-37bacdf4e8d7"
      },
      "source": [
        "y_train_categorical[:5]"
      ],
      "execution_count": null,
      "outputs": [
        {
          "output_type": "execute_result",
          "data": {
            "text/plain": [
              "array([[0., 0., 0., 0., 0., 0., 1., 0., 0., 0.],\n",
              "       [0., 0., 0., 0., 0., 0., 0., 0., 0., 1.],\n",
              "       [0., 0., 0., 0., 0., 0., 0., 0., 0., 1.],\n",
              "       [0., 0., 0., 0., 1., 0., 0., 0., 0., 0.],\n",
              "       [0., 1., 0., 0., 0., 0., 0., 0., 0., 0.]], dtype=float32)"
            ]
          },
          "metadata": {
            "tags": []
          },
          "execution_count": 21
        }
      ]
    },
    {
      "cell_type": "code",
      "metadata": {
        "id": "-zNM-MlF5-GX"
      },
      "source": [
        "y_test_categorical = keras.utils.to_categorical(\n",
        "    y_test, num_classes = 10,dtype = 'float32'\n",
        ")"
      ],
      "execution_count": null,
      "outputs": []
    },
    {
      "cell_type": "code",
      "metadata": {
        "id": "1oR8usoM6P_6",
        "colab": {
          "base_uri": "https://localhost:8080/"
        },
        "outputId": "df67437f-99ec-47e0-82a1-9d802205c4d0"
      },
      "source": [
        "model = keras.Sequential([\n",
        "                          keras.layers.Flatten(input_shape=(32,32,3)),\n",
        "                          keras.layers.Dense(3000, activation='relu'),\n",
        "                          keras.layers.Dense(1000, activation='relu'),\n",
        "                          keras.layers.Dense(10, activation=\"sigmoid\")\n",
        "])\n",
        "\n",
        "model.compile(\n",
        "    optimizer=\"SGD\",\n",
        "    loss='categorical_crossentropy',\n",
        "    metrics=['accuracy']\n",
        ")\n",
        "\n",
        "model.fit(X_train_scaled,y_train_categorical,epochs = 50)"
      ],
      "execution_count": null,
      "outputs": [
        {
          "output_type": "stream",
          "text": [
            "Epoch 1/50\n",
            "1563/1563 [==============================] - 4s 3ms/step - loss: 1.8575 - accuracy: 0.3343\n",
            "Epoch 2/50\n",
            "1563/1563 [==============================] - 4s 3ms/step - loss: 1.6541 - accuracy: 0.4154\n",
            "Epoch 3/50\n",
            "1563/1563 [==============================] - 4s 3ms/step - loss: 1.5677 - accuracy: 0.4446\n",
            "Epoch 4/50\n",
            "1563/1563 [==============================] - 4s 3ms/step - loss: 1.5053 - accuracy: 0.4677\n",
            "Epoch 5/50\n",
            "1563/1563 [==============================] - 4s 3ms/step - loss: 1.4561 - accuracy: 0.4872\n",
            "Epoch 6/50\n",
            "1563/1563 [==============================] - 4s 3ms/step - loss: 1.4138 - accuracy: 0.5005\n",
            "Epoch 7/50\n",
            "1563/1563 [==============================] - 4s 3ms/step - loss: 1.3759 - accuracy: 0.5163\n",
            "Epoch 8/50\n",
            "1563/1563 [==============================] - 4s 3ms/step - loss: 1.3394 - accuracy: 0.5268\n",
            "Epoch 9/50\n",
            "1563/1563 [==============================] - 4s 3ms/step - loss: 1.3077 - accuracy: 0.5394\n",
            "Epoch 10/50\n",
            "1563/1563 [==============================] - 4s 3ms/step - loss: 1.2759 - accuracy: 0.5506\n",
            "Epoch 11/50\n",
            "1563/1563 [==============================] - 4s 3ms/step - loss: 1.2472 - accuracy: 0.5602\n",
            "Epoch 12/50\n",
            "1563/1563 [==============================] - 4s 3ms/step - loss: 1.2179 - accuracy: 0.5719\n",
            "Epoch 13/50\n",
            "1563/1563 [==============================] - 4s 3ms/step - loss: 1.1902 - accuracy: 0.5805\n",
            "Epoch 14/50\n",
            "1563/1563 [==============================] - 4s 3ms/step - loss: 1.1644 - accuracy: 0.5901\n",
            "Epoch 15/50\n",
            "1563/1563 [==============================] - 4s 3ms/step - loss: 1.1375 - accuracy: 0.6019\n",
            "Epoch 16/50\n",
            "1563/1563 [==============================] - 4s 3ms/step - loss: 1.1118 - accuracy: 0.6087\n",
            "Epoch 17/50\n",
            "1563/1563 [==============================] - 4s 3ms/step - loss: 1.0822 - accuracy: 0.6192\n",
            "Epoch 18/50\n",
            "1563/1563 [==============================] - 4s 3ms/step - loss: 1.0598 - accuracy: 0.6304\n",
            "Epoch 19/50\n",
            "1563/1563 [==============================] - 4s 3ms/step - loss: 1.0338 - accuracy: 0.6387\n",
            "Epoch 20/50\n",
            "1563/1563 [==============================] - 4s 3ms/step - loss: 1.0090 - accuracy: 0.6473\n",
            "Epoch 21/50\n",
            "1563/1563 [==============================] - 4s 3ms/step - loss: 0.9854 - accuracy: 0.6559\n",
            "Epoch 22/50\n",
            "1563/1563 [==============================] - 4s 3ms/step - loss: 0.9575 - accuracy: 0.6663\n",
            "Epoch 23/50\n",
            "1563/1563 [==============================] - 4s 3ms/step - loss: 0.9322 - accuracy: 0.6765\n",
            "Epoch 24/50\n",
            "1563/1563 [==============================] - 4s 3ms/step - loss: 0.9111 - accuracy: 0.6829\n",
            "Epoch 25/50\n",
            "1563/1563 [==============================] - 4s 3ms/step - loss: 0.8837 - accuracy: 0.6931\n",
            "Epoch 26/50\n",
            "1563/1563 [==============================] - 4s 3ms/step - loss: 0.8593 - accuracy: 0.7010\n",
            "Epoch 27/50\n",
            "1563/1563 [==============================] - 4s 3ms/step - loss: 0.8359 - accuracy: 0.7108\n",
            "Epoch 28/50\n",
            "1563/1563 [==============================] - 4s 3ms/step - loss: 0.8101 - accuracy: 0.7215\n",
            "Epoch 29/50\n",
            "1563/1563 [==============================] - 4s 3ms/step - loss: 0.7858 - accuracy: 0.7301\n",
            "Epoch 30/50\n",
            "1563/1563 [==============================] - 4s 3ms/step - loss: 0.7648 - accuracy: 0.7367\n",
            "Epoch 31/50\n",
            "1563/1563 [==============================] - 4s 3ms/step - loss: 0.7376 - accuracy: 0.7475\n",
            "Epoch 32/50\n",
            "1563/1563 [==============================] - 4s 3ms/step - loss: 0.7146 - accuracy: 0.7554\n",
            "Epoch 33/50\n",
            "1563/1563 [==============================] - 4s 3ms/step - loss: 0.6877 - accuracy: 0.7657\n",
            "Epoch 34/50\n",
            "1563/1563 [==============================] - 4s 3ms/step - loss: 0.6652 - accuracy: 0.7733\n",
            "Epoch 35/50\n",
            "1563/1563 [==============================] - 4s 3ms/step - loss: 0.6395 - accuracy: 0.7824\n",
            "Epoch 36/50\n",
            "1563/1563 [==============================] - 4s 3ms/step - loss: 0.6197 - accuracy: 0.7901\n",
            "Epoch 37/50\n",
            "1563/1563 [==============================] - 4s 3ms/step - loss: 0.5960 - accuracy: 0.7982\n",
            "Epoch 38/50\n",
            "1563/1563 [==============================] - 4s 3ms/step - loss: 0.5704 - accuracy: 0.8100\n",
            "Epoch 39/50\n",
            "1563/1563 [==============================] - 4s 3ms/step - loss: 0.5467 - accuracy: 0.8164\n",
            "Epoch 40/50\n",
            "1563/1563 [==============================] - 4s 3ms/step - loss: 0.5272 - accuracy: 0.8245\n",
            "Epoch 41/50\n",
            "1563/1563 [==============================] - 4s 3ms/step - loss: 0.5020 - accuracy: 0.8335\n",
            "Epoch 42/50\n",
            "1563/1563 [==============================] - 4s 3ms/step - loss: 0.4817 - accuracy: 0.8408\n",
            "Epoch 43/50\n",
            "1563/1563 [==============================] - 4s 3ms/step - loss: 0.4644 - accuracy: 0.8455\n",
            "Epoch 44/50\n",
            "1563/1563 [==============================] - 4s 3ms/step - loss: 0.4407 - accuracy: 0.8565\n",
            "Epoch 45/50\n",
            "1563/1563 [==============================] - 4s 3ms/step - loss: 0.4230 - accuracy: 0.8624\n",
            "Epoch 46/50\n",
            "1563/1563 [==============================] - 4s 3ms/step - loss: 0.4015 - accuracy: 0.8690\n",
            "Epoch 47/50\n",
            "1563/1563 [==============================] - 4s 3ms/step - loss: 0.3777 - accuracy: 0.8789\n",
            "Epoch 48/50\n",
            "1563/1563 [==============================] - 4s 3ms/step - loss: 0.3649 - accuracy: 0.8837\n",
            "Epoch 49/50\n",
            "1563/1563 [==============================] - 4s 3ms/step - loss: 0.3444 - accuracy: 0.8913\n",
            "Epoch 50/50\n",
            "1563/1563 [==============================] - 4s 3ms/step - loss: 0.3272 - accuracy: 0.8970\n"
          ],
          "name": "stdout"
        },
        {
          "output_type": "execute_result",
          "data": {
            "text/plain": [
              "<tensorflow.python.keras.callbacks.History at 0x7f6b400c4668>"
            ]
          },
          "metadata": {
            "tags": []
          },
          "execution_count": 23
        }
      ]
    },
    {
      "cell_type": "code",
      "metadata": {
        "id": "W26aAGVp8NDa",
        "colab": {
          "base_uri": "https://localhost:8080/",
          "height": 35
        },
        "outputId": "d4a93d49-3448-4a2a-f15f-a27e8df85990"
      },
      "source": [
        "classes[y_test[1][0]]"
      ],
      "execution_count": null,
      "outputs": [
        {
          "output_type": "execute_result",
          "data": {
            "application/vnd.google.colaboratory.intrinsic+json": {
              "type": "string"
            },
            "text/plain": [
              "'ship'"
            ]
          },
          "metadata": {
            "tags": []
          },
          "execution_count": 33
        }
      ]
    },
    {
      "cell_type": "code",
      "metadata": {
        "id": "mChI6K0sBCQ1",
        "colab": {
          "base_uri": "https://localhost:8080/"
        },
        "outputId": "1a424e87-9ab5-4991-f3c7-3d346145157b"
      },
      "source": [
        "np.argmax(model.predict(X_test_scaled )[1])"
      ],
      "execution_count": null,
      "outputs": [
        {
          "output_type": "execute_result",
          "data": {
            "text/plain": [
              "8"
            ]
          },
          "metadata": {
            "tags": []
          },
          "execution_count": 35
        }
      ]
    },
    {
      "cell_type": "code",
      "metadata": {
        "id": "yDdTcevABQP6",
        "colab": {
          "base_uri": "https://localhost:8080/",
          "height": 35
        },
        "outputId": "4d76f62e-9d14-43c6-9533-d59afbaefe40"
      },
      "source": [
        "classes[np.argmax(model.predict(X_test_scaled )[1])]"
      ],
      "execution_count": null,
      "outputs": [
        {
          "output_type": "execute_result",
          "data": {
            "application/vnd.google.colaboratory.intrinsic+json": {
              "type": "string"
            },
            "text/plain": [
              "'ship'"
            ]
          },
          "metadata": {
            "tags": []
          },
          "execution_count": 36
        }
      ]
    },
    {
      "cell_type": "code",
      "metadata": {
        "id": "NDwZuxyyDJsG",
        "colab": {
          "base_uri": "https://localhost:8080/"
        },
        "outputId": "62694720-a4c9-46bb-df35-b16981dddc64"
      },
      "source": [
        "model.evaluate(X_test_scaled,y_test_categorical)"
      ],
      "execution_count": null,
      "outputs": [
        {
          "output_type": "stream",
          "text": [
            "313/313 [==============================] - 1s 2ms/step - loss: 1.5185 - accuracy: 0.5662\n"
          ],
          "name": "stdout"
        },
        {
          "output_type": "execute_result",
          "data": {
            "text/plain": [
              "[1.518498182296753, 0.5662000179290771]"
            ]
          },
          "metadata": {
            "tags": []
          },
          "execution_count": 39
        }
      ]
    },
    {
      "cell_type": "code",
      "metadata": {
        "id": "ohRVHp8bDROy"
      },
      "source": [
        "def get_model():\n",
        "  model = keras.Sequential([\n",
        "                          keras.layers.Flatten(input_shape=(32,32,3)),\n",
        "                          keras.layers.Dense(3000, activation='relu'),\n",
        "                          keras.layers.Dense(1000, activation='relu'),\n",
        "                          keras.layers.Dense(10, activation=\"sigmoid\")\n",
        "  ])\n",
        "\n",
        "  model.compile(\n",
        "      optimizer=\"SGD\",\n",
        "      loss='categorical_crossentropy',\n",
        "      metrics=['accuracy']\n",
        "  )\n",
        "  return model\n"
      ],
      "execution_count": null,
      "outputs": []
    },
    {
      "cell_type": "code",
      "metadata": {
        "id": "ti7jUe0AEcas",
        "colab": {
          "base_uri": "https://localhost:8080/"
        },
        "outputId": "3f15f2c9-ee7d-4115-bee0-1cef67b3553f"
      },
      "source": [
        "%%timeit -n1 -r1\n",
        "gpu = model.fit(X_train_scaled,y_train_categorical,epochs=20)"
      ],
      "execution_count": null,
      "outputs": [
        {
          "output_type": "stream",
          "text": [
            "Epoch 1/20\n",
            "1563/1563 [==============================] - 4s 3ms/step - loss: 0.0844 - accuracy: 0.9821\n",
            "Epoch 2/20\n",
            "1563/1563 [==============================] - 4s 3ms/step - loss: 0.0784 - accuracy: 0.9836\n",
            "Epoch 3/20\n",
            "1563/1563 [==============================] - 4s 3ms/step - loss: 0.0722 - accuracy: 0.9864\n",
            "Epoch 4/20\n",
            "1563/1563 [==============================] - 4s 3ms/step - loss: 0.0657 - accuracy: 0.9880\n",
            "Epoch 5/20\n",
            "1563/1563 [==============================] - 4s 3ms/step - loss: 0.0600 - accuracy: 0.9897\n",
            "Epoch 6/20\n",
            "1563/1563 [==============================] - 4s 3ms/step - loss: 0.0576 - accuracy: 0.9893\n",
            "Epoch 7/20\n",
            "1563/1563 [==============================] - 4s 3ms/step - loss: 0.0511 - accuracy: 0.9916\n",
            "Epoch 8/20\n",
            "1563/1563 [==============================] - 4s 3ms/step - loss: 0.0483 - accuracy: 0.9924\n",
            "Epoch 9/20\n",
            "1563/1563 [==============================] - 4s 3ms/step - loss: 0.0501 - accuracy: 0.9922\n",
            "Epoch 10/20\n",
            "1563/1563 [==============================] - 4s 3ms/step - loss: 0.0412 - accuracy: 0.9935\n",
            "Epoch 11/20\n",
            "1563/1563 [==============================] - 4s 3ms/step - loss: 0.0383 - accuracy: 0.9947\n",
            "Epoch 12/20\n",
            "1563/1563 [==============================] - 4s 3ms/step - loss: 0.0356 - accuracy: 0.9949\n",
            "Epoch 13/20\n",
            "1563/1563 [==============================] - 4s 3ms/step - loss: 0.0318 - accuracy: 0.9960\n",
            "Epoch 14/20\n",
            "1563/1563 [==============================] - 4s 3ms/step - loss: 0.0320 - accuracy: 0.9956\n",
            "Epoch 15/20\n",
            "1563/1563 [==============================] - 4s 3ms/step - loss: 0.0303 - accuracy: 0.9960\n",
            "Epoch 16/20\n",
            "1563/1563 [==============================] - 4s 3ms/step - loss: 0.0669 - accuracy: 0.9870\n",
            "Epoch 17/20\n",
            "1563/1563 [==============================] - 4s 3ms/step - loss: 0.0365 - accuracy: 0.9954\n",
            "Epoch 18/20\n",
            "1563/1563 [==============================] - 4s 3ms/step - loss: 0.0240 - accuracy: 0.9977\n",
            "Epoch 19/20\n",
            "1563/1563 [==============================] - 4s 3ms/step - loss: 0.0222 - accuracy: 0.9979\n",
            "Epoch 20/20\n",
            "1563/1563 [==============================] - 4s 3ms/step - loss: 0.0666 - accuracy: 0.9880\n",
            "1 loop, best of 1: 1min 25s per loop\n"
          ],
          "name": "stdout"
        }
      ]
    },
    {
      "cell_type": "code",
      "metadata": {
        "id": "EFSszaUlFWdb"
      },
      "source": [
        ""
      ],
      "execution_count": null,
      "outputs": []
    }
  ]
}